{
 "cells": [
  {
   "cell_type": "markdown",
   "metadata": {},
   "source": [
    "# M2177.003100 Deep Learning <br> Assignment #1 Part 3: Playing with Neural Networks by TensorFlow"
   ]
  },
  {
   "cell_type": "markdown",
   "metadata": {},
   "source": [
    "Copyright (C) Data Science & AI Laboratory, Seoul National University. This material is for educational uses only. Some contents are based on the material provided by other paper/book authors and may be copyrighted by them. "
   ]
  },
  {
   "cell_type": "markdown",
   "metadata": {
    "colab_type": "text",
    "id": "kR-4eNdK6lYS"
   },
   "source": [
    "Previously in `Assignment2-1_Data_Curation.ipynb`, we created a pickle with formatted datasets for training, development and testing on the [notMNIST dataset](http://yaroslavvb.blogspot.com/2011/09/notmnist-dataset.html).\n",
    "\n",
    "The goal of this assignment is to progressively train deeper and more accurate models using TensorFlow.\n",
    "\n",
    "**Note**: certain details are missing or ambiguous on purpose, in order to test your knowledge on the related materials. However, if you really feel that something essential is missing and cannot proceed to the next step, then contact the teaching staff with clear description of your problem.\n",
    "\n",
    "### Submitting your work:\n",
    "<font color=red>**DO NOT clear the final outputs**</font> so that TAs can grade both your code and results.  \n",
    "Once you have done **part 1 - 3**, run the *CollectSubmission.sh* script with your **Student number** as input argument. <br>\n",
    "This will produce a compressed file called *[Your student number].tar.gz*. Please submit this file on ETL. &nbsp;&nbsp; (Usage: ./*CollectSubmission.sh* &nbsp; 20\\*\\*-\\*\\*\\*\\*\\*)"
   ]
  },
  {
   "cell_type": "markdown",
   "metadata": {},
   "source": [
    "## Load datasets\n",
    "\n",
    "First reload the data we generated in `Assignment2-1_Data_Curation.ipynb`."
   ]
  },
  {
   "cell_type": "code",
   "execution_count": 1,
   "metadata": {
    "cellView": "both",
    "colab": {
     "autoexec": {
      "startup": false,
      "wait_interval": 0
     }
    },
    "colab_type": "code",
    "collapsed": true,
    "id": "JLpLa8Jt7Vu4"
   },
   "outputs": [],
   "source": [
    "# These are all the modules we'll be using later. Make sure you can import them\n",
    "# before proceeding further.\n",
    "from __future__ import print_function\n",
    "import numpy as np\n",
    "import tensorflow as tf\n",
    "from six.moves import cPickle as pickle\n",
    "from six.moves import range\n",
    "import os\n",
    "\n",
    "#configuration for gpu usage\n",
    "conf = tf.ConfigProto()\n",
    "conf.gpu_options.per_process_gpu_memory_fraction = 0.4\n",
    "conf.gpu_options.allow_growth = True\n",
    "os.environ['CUDA_VISIBLE_DEVICES']='0'"
   ]
  },
  {
   "cell_type": "code",
   "execution_count": 2,
   "metadata": {
    "cellView": "both",
    "colab": {
     "autoexec": {
      "startup": false,
      "wait_interval": 0
     },
     "output_extras": [
      {
       "item_id": 1
      }
     ]
    },
    "colab_type": "code",
    "executionInfo": {
     "elapsed": 19456,
     "status": "ok",
     "timestamp": 1449847956073,
     "user": {
      "color": "",
      "displayName": "",
      "isAnonymous": false,
      "isMe": true,
      "permissionId": "",
      "photoUrl": "",
      "sessionId": "0",
      "userId": ""
     },
     "user_tz": 480
    },
    "id": "y3-cj1bpmuxc",
    "outputId": "0ddb1607-1fc4-4ddb-de28-6c7ab7fb0c33"
   },
   "outputs": [
    {
     "name": "stdout",
     "output_type": "stream",
     "text": [
      "Training set (200000, 28, 28) (200000,)\n",
      "Validation set (10000, 28, 28) (10000,)\n",
      "Test set (10000, 28, 28) (10000,)\n"
     ]
    }
   ],
   "source": [
    "pickle_file = 'data/notMNIST.pickle'\n",
    "\n",
    "with open(pickle_file, 'rb') as f:\n",
    "    save = pickle.load(f)\n",
    "    train_dataset = save['train_dataset']\n",
    "    train_labels = save['train_labels']\n",
    "    valid_dataset = save['valid_dataset']\n",
    "    valid_labels = save['valid_labels']\n",
    "    test_dataset = save['test_dataset']\n",
    "    test_labels = save['test_labels']\n",
    "    del save  # hint to help gc free up memory\n",
    "    print('Training set', train_dataset.shape, train_labels.shape)\n",
    "    print('Validation set', valid_dataset.shape, valid_labels.shape)\n",
    "    print('Test set', test_dataset.shape, test_labels.shape)"
   ]
  },
  {
   "cell_type": "markdown",
   "metadata": {
    "colab_type": "text",
    "id": "L7aHrm6nGDMB"
   },
   "source": [
    "Reformat into a shape that's more adapted to the models we're going to train:\n",
    "- data as a flat matrix,\n",
    "- labels as float 1-hot encodings."
   ]
  },
  {
   "cell_type": "code",
   "execution_count": 3,
   "metadata": {
    "cellView": "both",
    "colab": {
     "autoexec": {
      "startup": false,
      "wait_interval": 0
     },
     "output_extras": [
      {
       "item_id": 1
      }
     ]
    },
    "colab_type": "code",
    "executionInfo": {
     "elapsed": 19723,
     "status": "ok",
     "timestamp": 1449847956364,
     "user": {
      "color": "",
      "displayName": "",
      "isAnonymous": false,
      "isMe": true,
      "permissionId": "",
      "photoUrl": "",
      "sessionId": "0",
      "userId": ""
     },
     "user_tz": 480
    },
    "id": "IRSyYiIIGIzS",
    "outputId": "2ba0fc75-1487-4ace-a562-cf81cae82793"
   },
   "outputs": [
    {
     "name": "stdout",
     "output_type": "stream",
     "text": [
      "Training set (200000, 784) (200000, 10)\n",
      "Validation set (10000, 784) (10000, 10)\n",
      "Test set (10000, 784) (10000, 10)\n"
     ]
    }
   ],
   "source": [
    "image_size = 28\n",
    "num_labels = 10\n",
    "\n",
    "def reformat(dataset, labels):\n",
    "    dataset = dataset.reshape((-1, image_size * image_size)).astype(np.float32)\n",
    "    # Map 0 to [1.0, 0.0, 0.0 ...], 1 to [0.0, 1.0, 0.0 ...]\n",
    "    labels = (np.arange(num_labels) == labels[:,None]).astype(np.float32)\n",
    "    return dataset, labels\n",
    "train_dataset, train_labels = reformat(train_dataset, train_labels)\n",
    "valid_dataset, valid_labels = reformat(valid_dataset, valid_labels)\n",
    "test_dataset, test_labels = reformat(test_dataset, test_labels)\n",
    "print('Training set', train_dataset.shape, train_labels.shape)\n",
    "print('Validation set', valid_dataset.shape, valid_labels.shape)\n",
    "print('Test set', test_dataset.shape, test_labels.shape)"
   ]
  },
  {
   "cell_type": "markdown",
   "metadata": {
    "colab_type": "text",
    "id": "nCLVqyQ5vPPH"
   },
   "source": [
    "## TensorFlow tutorial: Fully Connected Network\n",
    "\n",
    "We're first going to train a **fully connected network** with *1 hidden layer* with *1024 units* using stochastic gradient descent (SGD).\n",
    "\n",
    "TensorFlow works like this:\n",
    "* First you describe the computation that you want to see performed: what the inputs, the variables, and the operations look like. These get created as nodes over a computation graph. This description is all contained within the block below:\n",
    "\n",
    "      with graph.as_default():\n",
    "          ...\n",
    "\n",
    "* Then you can run the operations on this graph as many times as you want by calling `session.run()`, providing it outputs to fetch from the graph that get returned. This runtime operation is all contained in the block below:\n",
    "\n",
    "      with tf.Session(graph=graph) as session:\n",
    "          ...\n",
    "\n",
    "Let's load all the data into TensorFlow and build the computation graph corresponding to our training:"
   ]
  },
  {
   "cell_type": "code",
   "execution_count": 5,
   "metadata": {
    "collapsed": true
   },
   "outputs": [],
   "source": [
    "batch_size = 128\n",
    "nn_hidden = 1024\n",
    "\n",
    "graph = tf.Graph()\n",
    "with graph.as_default():\n",
    "    # Input data. For the training data, we use a placeholder that will be fed\n",
    "    # at run time with a training minibatch.\n",
    "    tf_dataset = tf.placeholder(tf.float32,\n",
    "                                      shape=(None, image_size * image_size))\n",
    "    tf_labels = tf.placeholder(tf.float32, shape=(None, num_labels))\n",
    "    \n",
    "    # Variables. \n",
    "    w1 = tf.Variable(tf.truncated_normal([image_size * image_size, nn_hidden]))\n",
    "    b1 = tf.Variable(tf.zeros([nn_hidden]))\n",
    "    w2 = tf.Variable(tf.truncated_normal([nn_hidden, num_labels]))\n",
    "    b2 = tf.Variable(tf.zeros([num_labels]))\n",
    "    \n",
    "    # Training computation.\n",
    "    hidden = tf.tanh(tf.matmul(tf_dataset, w1) + b1)\n",
    "    logits = tf.matmul(hidden, w2) + b2\n",
    "    \n",
    "    loss = tf.reduce_mean(\n",
    "        tf.nn.softmax_cross_entropy_with_logits(labels=tf_labels, logits=logits))\n",
    "    \n",
    "    # Optimizer.\n",
    "    optimizer = tf.train.GradientDescentOptimizer(0.5).minimize(loss)\n",
    "  \n",
    "    # Predictions for the training, validation, and test data.\n",
    "    prediction = tf.nn.softmax(logits)"
   ]
  },
  {
   "cell_type": "markdown",
   "metadata": {
    "colab_type": "text",
    "id": "KQcL4uqISHjP"
   },
   "source": [
    "Let's run this computation and iterate:"
   ]
  },
  {
   "cell_type": "code",
   "execution_count": 6,
   "metadata": {},
   "outputs": [
    {
     "name": "stdout",
     "output_type": "stream",
     "text": [
      "Initialized\n",
      "Minibatch loss at step 0: 43.536270\n",
      "Minibatch accuracy: 12.5%\n",
      "Validation accuracy: 19.9%\n",
      "Minibatch loss at step 1000: 4.329719\n",
      "Minibatch accuracy: 75.8%\n",
      "Validation accuracy: 78.8%\n",
      "Minibatch loss at step 2000: 1.593778\n",
      "Minibatch accuracy: 84.4%\n",
      "Validation accuracy: 79.9%\n",
      "Minibatch loss at step 3000: 1.002192\n",
      "Minibatch accuracy: 86.7%\n",
      "Validation accuracy: 80.9%\n",
      "Minibatch loss at step 4000: 1.225214\n",
      "Minibatch accuracy: 85.2%\n",
      "Validation accuracy: 80.5%\n",
      "Minibatch loss at step 5000: 1.175979\n",
      "Minibatch accuracy: 85.2%\n",
      "Validation accuracy: 79.7%\n",
      "Minibatch loss at step 6000: 1.027169\n",
      "Minibatch accuracy: 84.4%\n",
      "Validation accuracy: 80.7%\n",
      "Minibatch loss at step 7000: 1.025375\n",
      "Minibatch accuracy: 82.8%\n",
      "Validation accuracy: 82.0%\n",
      "Minibatch loss at step 8000: 1.223992\n",
      "Minibatch accuracy: 78.1%\n",
      "Validation accuracy: 81.2%\n",
      "Minibatch loss at step 9000: 0.829312\n",
      "Minibatch accuracy: 84.4%\n",
      "Validation accuracy: 81.8%\n",
      "Test accuracy: 89.3%\n"
     ]
    }
   ],
   "source": [
    "num_steps = 10000\n",
    "\n",
    "def accuracy(predictions, labels):\n",
    "    return (100.0 * np.sum(np.equal(np.argmax(predictions, 1), np.argmax(labels, 1)))\n",
    "          / predictions.shape[0])\n",
    "\n",
    "with tf.Session(graph=graph) as session:\n",
    "    tf.global_variables_initializer().run()\n",
    "    print(\"Initialized\")\n",
    "    for step in range(num_steps):\n",
    "        # Pick an offset within the training data, which has been randomized.\n",
    "        # Note: we could use better randomization across epochs.\n",
    "        offset = (step * batch_size) % (train_labels.shape[0] - batch_size)\n",
    "        # Generate a minibatch.\n",
    "        batch_data = train_dataset[offset:(offset + batch_size), :]\n",
    "        batch_labels = train_labels[offset:(offset + batch_size), :]\n",
    "        # Prepare a dictionary telling the session where to feed the minibatch.\n",
    "        # The key of the dictionary is the placeholder node of the graph to be fed,\n",
    "        # and the value is the numpy array to feed to it.\n",
    "        feed_dict_train={tf_dataset: batch_data, tf_labels: batch_labels}\n",
    "        _, l, predictions = session.run([optimizer, loss, prediction], feed_dict=feed_dict_train)\n",
    "        if (step % 1000 == 0):\n",
    "            print(\"Minibatch loss at step %d: %f\" % (step, l))\n",
    "            print(\"Minibatch accuracy: %.1f%%\" % accuracy(predictions, batch_labels))\n",
    "            valid_prediction = session.run(logits, feed_dict={tf_dataset: valid_dataset})\n",
    "            print(\"Validation accuracy: %.1f%%\" % accuracy(valid_prediction, valid_labels))\n",
    "                  \n",
    "    test_prediction = session.run(prediction, feed_dict={tf_dataset: test_dataset})\n",
    "    print(\"Test accuracy: %.1f%%\" % accuracy(test_prediction, test_labels))\n",
    "    saver = tf.train.Saver()\n",
    "    saver.save(session, \"./model_checkpoints/my_model_final\")"
   ]
  },
  {
   "cell_type": "markdown",
   "metadata": {},
   "source": [
    "So far, you have built the model in a naive way. However, TensorFlow provides a module named tf.layers for your convenience. \n",
    "\n",
    "From now on, build the same model as above using layers module."
   ]
  },
  {
   "cell_type": "code",
   "execution_count": 7,
   "metadata": {
    "collapsed": true
   },
   "outputs": [],
   "source": [
    "graph_l=tf.Graph()\n",
    "with graph_l.as_default():\n",
    "    tf_dataset_l=tf.placeholder(tf.float32, shape=(None, image_size * image_size))\n",
    "    tf_labels_l=tf.placeholder(tf.float32, shape=(None, num_labels))\n",
    "    \n",
    "    dense = tf.layers.dense(tf_dataset_l, nn_hidden, activation=tf.tanh)\n",
    "    logits_l = tf.layers.dense(dense, num_labels, activation=tf.nn.softmax)\n",
    "    \n",
    "    #Loss\n",
    "    loss_l = tf.reduce_mean(tf.nn.softmax_cross_entropy_with_logits(labels=tf_labels_l, logits=logits_l))\n",
    "    \n",
    "    #Optimizer\n",
    "    optimizer_l = tf.train.GradientDescentOptimizer(0.5).minimize(loss_l)\n",
    "    \n",
    "    #Predictions for the training\n",
    "    prediction_l = tf.nn.softmax(logits_l)"
   ]
  },
  {
   "cell_type": "code",
   "execution_count": 8,
   "metadata": {},
   "outputs": [
    {
     "name": "stdout",
     "output_type": "stream",
     "text": [
      "Initialized\n",
      "Minibatch loss at step 0: 2.290398\n",
      "Validation accuracy: 32.7%\n",
      "Minibatch loss at step 1000: 1.632728\n",
      "Validation accuracy: 83.5%\n",
      "Minibatch loss at step 2000: 1.559703\n",
      "Validation accuracy: 84.1%\n",
      "Minibatch loss at step 3000: 1.611770\n",
      "Validation accuracy: 84.4%\n",
      "Minibatch loss at step 4000: 1.583473\n",
      "Validation accuracy: 84.8%\n",
      "Minibatch loss at step 5000: 1.576706\n",
      "Validation accuracy: 84.9%\n",
      "Minibatch loss at step 6000: 1.638107\n",
      "Validation accuracy: 85.3%\n",
      "Minibatch loss at step 7000: 1.611711\n",
      "Validation accuracy: 85.1%\n",
      "Minibatch loss at step 8000: 1.674001\n",
      "Validation accuracy: 85.3%\n",
      "Minibatch loss at step 9000: 1.580650\n",
      "Validation accuracy: 85.7%\n",
      "Test accuracy: 92.1%\n"
     ]
    }
   ],
   "source": [
    "with tf.Session(graph=graph_l, config=conf) as session_l:\n",
    "    tf.global_variables_initializer().run()\n",
    "    print(\"Initialized\")\n",
    "    for step in range(num_steps):\n",
    "        offset = (step * batch_size) % (train_labels.shape[0] - batch_size)\n",
    "        batch_data = train_dataset[offset:(offset + batch_size), :]\n",
    "        batch_labels = train_labels[offset:(offset + batch_size), :].astype(float)\n",
    "        feed_dict_l = {tf_dataset_l: batch_data, tf_labels_l: batch_labels}\n",
    "        _, l_l, predictions_l = session_l.run([optimizer_l, loss_l, prediction_l], feed_dict=feed_dict_l)\n",
    "        if(step % 1000 == 0):\n",
    "            print(\"Minibatch loss at step %d: %f\" % (step, l_l))\n",
    "            feed_dict_val_l = {tf_dataset_l: valid_dataset}\n",
    "            valid_prediction_l = session_l.run(prediction_l, feed_dict={tf_dataset_l: valid_dataset, tf_labels_l: valid_labels})\n",
    "            print(\"Validation accuracy: %.1f%%\" % accuracy(valid_prediction_l, valid_labels))\n",
    "\n",
    "    feed_dict_test_l = {tf_dataset_l: test_dataset}\n",
    "    test_prediction_l = session_l.run(prediction_l, feed_dict=feed_dict_test_l)\n",
    "    print(\"Test accuracy: %.1f%%\" % accuracy(test_prediction_l, test_labels))\n",
    "    saver = tf.train.Saver()\n",
    "    saver.save(session_l, \"./model_checkpoints/my_model_final_using_layers\")"
   ]
  },
  {
   "cell_type": "markdown",
   "metadata": {},
   "source": [
    "---\n",
    "Problem 1\n",
    "-------\n",
    "\n",
    "**Describe below** why there is a difference in an accuracy between the graph using layer module and the graph which is built in a naive way.\n",
    "\n",
    "\n",
    "\n",
    "\n",
    "\n",
    "---"
   ]
  },
  {
   "cell_type": "markdown",
   "metadata": {},
   "source": [
    "Because the graph using layer module has "
   ]
  },
  {
   "cell_type": "markdown",
   "metadata": {
    "colab_type": "text",
    "id": "7omWxtvLLxik"
   },
   "source": [
    "---\n",
    "Problem 2\n",
    "-------\n",
    "\n",
    "Try to get the best performance you can using a multi-layer model! (It doesn't matter whether you implement it in a naive way or using layer module. HOWEVER, you CANNOT use other type of layers such as conv.) \n",
    "\n",
    "The best reported test accuracy using a deep network is [97.1%](http://yaroslavvb.blogspot.kr/2011/09/notmnist-dataset.html?showComment=1391023266211#c8758720086795711595). You may use techniques below.\n",
    "\n",
    "1. Experiment with different hyperparameters: num_steps, learning rate, etc.\n",
    "2. We used a fixed learning rate $\\epsilon$ for gradient descent. Implement an annealing schedule for the gradient descent learning rate ([more info](http://cs231n.github.io/neural-networks-3/#anneal)). *Hint*. Try using `tf.train.exponential_decay`.    \n",
    "3. We used a $\\tanh$ activation function for our hidden layer. Experiment with other activation functions included in TensorFlow.\n",
    "4. Extend the network to multiple hidden layers. Experiment with the layer sizes. Adding another hidden layer means you will need to adjust the code. \n",
    "5. Introduce and tune regularization method (e.g. L2 regularization) for your model. Remeber that L2 amounts to adding a penalty on the norm of the weights to the loss. In TensorFlow, you can compute the L2 loss for a tensor `t` using `nn.l2_loss(t)`. The right amount of regularization should imporve your validation / test accuracy.\n",
    "6. Introduce Dropout on the hidden layer of the neural network. Remember: Dropout should only be introduced during training, not evaluation, otherwise your evaluation results would be stochastic as well. TensorFlow provides nn.dropout() for that, but you have to make sure it's only inserted during training.\n",
    "\n",
    "**Evaluation:** You will get full credit if your best test accuracy exceeds 93%. Save your best perfoming model as my_model_final using saver. (Refer to the cell above) \n",
    "\n",
    "---"
   ]
  },
  {
   "cell_type": "code",
   "execution_count": null,
   "metadata": {},
   "outputs": [
    {
     "name": "stdout",
     "output_type": "stream",
     "text": [
      " TODO \n",
      "Initialized\n",
      "Minibatch loss at step 0: 2.304005\n",
      "Validation accuracy: 19.1%\n",
      "Minibatch loss at step 1000: 1.621248\n",
      "Validation accuracy: 84.2%\n",
      "Minibatch loss at step 2000: 1.549334\n",
      "Validation accuracy: 86.4%\n",
      "Minibatch loss at step 3000: 1.599653\n",
      "Validation accuracy: 86.7%\n",
      "Minibatch loss at step 4000: 1.540910\n",
      "Validation accuracy: 86.7%\n",
      "Minibatch loss at step 5000: 1.571752\n",
      "Validation accuracy: 87.5%\n",
      "Minibatch loss at step 6000: 1.585668\n",
      "Validation accuracy: 87.5%\n",
      "Minibatch loss at step 7000: 1.593604\n",
      "Validation accuracy: 87.8%\n",
      "Minibatch loss at step 8000: 1.641964\n",
      "Validation accuracy: 88.2%\n",
      "Minibatch loss at step 9000: 1.565731\n",
      "Validation accuracy: 88.2%\n"
     ]
    }
   ],
   "source": [
    "print(__doc__)\n",
    "\"\"\" TODO \"\"\"\n",
    "from __future__ import print_function\n",
    "import numpy as np\n",
    "import tensorflow as tf\n",
    "from six.moves import cPickle as pickle\n",
    "from six.moves import range\n",
    "import os\n",
    "\n",
    "#configuration for gpu usage\n",
    "conf = tf.ConfigProto()\n",
    "conf.gpu_options.per_process_gpu_memory_fraction = 0.4\n",
    "conf.gpu_options.allow_growth = True\n",
    "os.environ['CUDA_VISIBLE_DEVICES']='0'\n",
    "\n",
    "image_size = 28\n",
    "num_labels = 10\n",
    "\n",
    "pickle_file = 'data/notMNIST.pickle'\n",
    "\n",
    "with open(pickle_file, 'rb') as f:\n",
    "    save = pickle.load(f)\n",
    "    train_dataset = save['train_dataset']\n",
    "    train_labels = save['train_labels']\n",
    "    valid_dataset = save['valid_dataset']\n",
    "    valid_labels = save['valid_labels']\n",
    "    test_dataset = save['test_dataset']\n",
    "    test_labels = save['test_labels']\n",
    "    del save  # hint to help gc free up memory\n",
    "\n",
    "def reformat(dataset, labels):\n",
    "    dataset = dataset.reshape((-1, image_size * image_size)).astype(np.float32)\n",
    "    # Map 0 to [1.0, 0.0, 0.0 ...], 1 to [0.0, 1.0, 0.0 ...]\n",
    "    labels = (np.arange(num_labels) == labels[:,None]).astype(np.float32)\n",
    "    return dataset, labels\n",
    "\n",
    "train_dataset, train_labels = reformat(train_dataset, train_labels)\n",
    "valid_dataset, valid_labels = reformat(valid_dataset, valid_labels)\n",
    "test_dataset, test_labels = reformat(test_dataset, test_labels)\n",
    "\n",
    "num_steps = 10000\n",
    "batch_size = 128\n",
    "nn_hidden = 1024\n",
    "\n",
    "def accuracy_rev(predictions, labels):\n",
    "    return (100.0 * np.sum(np.equal(np.argmax(predictions, 1), np.argmax(labels, 1)))\n",
    "          / predictions.shape[0])\n",
    "\n",
    "\n",
    "graph_l_rev=tf.Graph()\n",
    "with graph_l_rev.as_default():\n",
    "    tf_dataset_l_rev = tf.placeholder(tf.float32, shape=(None, image_size * image_size))\n",
    "    tf_labels_l_rev = tf.placeholder(tf.float32, shape=(None, num_labels))\n",
    "    should_drop = tf.placeholder(tf.bool)\n",
    "    \n",
    "    #Initializing Layers and learning rate\n",
    "    dense_rev = tf.layers.dense(tf_dataset_l_rev, nn_hidden, activation=tf.nn.relu)\n",
    "    dense_rev1 = tf.layers.dense(dense_rev, nn_hidden, activation=tf.nn.relu)\n",
    "    dropout = tf.layers.dropout(dense_rev1, rate = 0.5, training = should_drop)\n",
    "    logits_l_rev = tf.layers.dense(dense_rev1, num_labels, activation=tf.nn.softmax)\n",
    "    global_step = tf.Variable(0, trainable=False)\n",
    "    initial_learning_rate = 0.7\n",
    "    learning_rate = tf.train.exponential_decay(initial_learning_rate, global_step, 1000, 0.96, staircase = True)\n",
    "    \n",
    "    #Loss with L2 regularization\n",
    "    loss_l_rev = tf.reduce_mean(tf.nn.softmax_cross_entropy_with_logits(labels=tf_labels_l_rev, logits=logits_l_rev))\n",
    "    l2_loss = tf.losses.get_regularization_loss()\n",
    "    loss_l_rev += l2_loss\n",
    "    \n",
    "    #Optimizer\n",
    "    optimizer_l_rev = tf.train.GradientDescentOptimizer(learning_rate).minimize(loss_l_rev)\n",
    "    \n",
    "    #Predictions for the training\n",
    "    prediction_l_rev = tf.nn.softmax(logits_l_rev)\n",
    "    \n",
    "with tf.Session(graph=graph_l_rev, config=conf) as session_l_rev:\n",
    "    tf.global_variables_initializer().run()\n",
    "    print(\"Initialized\")\n",
    "    for step in range(num_steps):\n",
    "        offset = (step * batch_size) % (train_labels.shape[0] - batch_size)\n",
    "        batch_data = train_dataset[offset:(offset + batch_size), :]\n",
    "        batch_labels = train_labels[offset:(offset + batch_size), :].astype(float)\n",
    "        feed_dict_l_rev = {tf_dataset_l_rev: batch_data, tf_labels_l_rev: batch_labels}\n",
    "        _, l_l_rev, predictions_l_rev = session_l_rev.run([optimizer_l_rev, loss_l_rev, prediction_l_rev], feed_dict=feed_dict_l_rev)\n",
    "        if(step % 1000 == 0):\n",
    "            print(\"Minibatch loss at step %d: %f\" % (step, l_l_rev))\n",
    "            feed_dict_val_l_rev = {tf_dataset_l_rev: valid_dataset}\n",
    "            valid_prediction_l_rev = session_l_rev.run(prediction_l_rev, feed_dict={tf_dataset_l_rev: valid_dataset, tf_labels_l_rev: valid_labels})\n",
    "            print(\"Validation accuracy: %.1f%%\" % accuracy_rev(valid_prediction_l_rev, valid_labels))\n",
    "\n",
    "    feed_dict_test_l_rev = {tf_dataset_l_rev: test_dataset}\n",
    "    test_prediction_l_rev = session_l_rev.run(prediction_l_rev, feed_dict=feed_dict_test_l_rev)\n",
    "    print(\"Test accuracy: %.1f%%\" % accuracy_rev(test_prediction_l_rev, test_labels))\n",
    "    saver = tf.train.Saver()\n",
    "    saver.save(session_l_rev, \"./model_checkpoints/my_model_final_using_layers\")"
   ]
  },
  {
   "cell_type": "code",
   "execution_count": null,
   "metadata": {
    "collapsed": true
   },
   "outputs": [],
   "source": []
  }
 ],
 "metadata": {
  "colab": {
   "default_view": {},
   "name": "2_fullyconnected.ipynb",
   "provenance": [],
   "version": "0.3.2",
   "views": {}
  },
  "kernelspec": {
   "display_name": "Python 3",
   "language": "python",
   "name": "python3"
  },
  "language_info": {
   "codemirror_mode": {
    "name": "ipython",
    "version": 3
   },
   "file_extension": ".py",
   "mimetype": "text/x-python",
   "name": "python",
   "nbconvert_exporter": "python",
   "pygments_lexer": "ipython3",
   "version": "3.6.2"
  }
 },
 "nbformat": 4,
 "nbformat_minor": 2
}
