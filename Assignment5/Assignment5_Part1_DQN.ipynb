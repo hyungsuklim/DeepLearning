{
 "cells": [
  {
   "cell_type": "markdown",
   "metadata": {},
   "source": [
    "# M2177.003100 Deep Learning <br>Assignment #5 Part 1: Implementing and Training a Deep Q-Network"
   ]
  },
  {
   "cell_type": "markdown",
   "metadata": {},
   "source": [
    "Copyright (C) Data Science Laboratory, Seoul National University. This material is for educational uses only. Some contents are based on the material provided by other paper/book authors and may be copyrighted by them. Written by Hyemi Jang, November 2018"
   ]
  },
  {
   "cell_type": "markdown",
   "metadata": {},
   "source": [
    "In this notebook, you will implement one of famous reinforcement learning algorithm, Deep Q-Network (DQN) of DeepMind. <br>\n",
    "The goal here is to understand a basic form of DQN [1, 2] and learn how to use OpenAI Gym toolkit [3].<br>\n",
    "You need to follow the instructions to implement the given classes.\n",
    "\n",
    "1. [Play](#play) ( 50 points )\n",
    "\n",
    "**Note**: certain details are missing or ambiguous on purpose, in order to test your knowledge on the related materials. However, if you really feel that something essential is missing and cannot proceed to the next step, then contact the teaching staff with clear description of your problem.\n",
    "\n",
    "### Submitting your work:\n",
    "<font color=red>**DO NOT clear the final outputs**</font> so that TAs can grade both your code and results.  \n",
    "Once you have done **two parts of the assignment**, run the *CollectSubmission.sh* script with your **Team number** as input argument. <br>\n",
    "This will produce a zipped file called *[Your team number].tar.gz*. Please submit this file on ETL. &nbsp;&nbsp; (Usage: ./*CollectSubmission.sh* &nbsp; Team_#)\n",
    "\n",
    "### Some helpful references for assignment #4 :\n",
    "- [1] Mnih, Volodymyr, et al. \"Playing atari with deep reinforcement learning.\" arXiv preprint arXiv:1312.5602 (2013). [[pdf]](https://www.google.co.kr/url?sa=t&rct=j&q=&esrc=s&source=web&cd=3&cad=rja&uact=8&ved=0ahUKEwiI3aqPjavVAhXBkJQKHZsIDpgQFgg7MAI&url=https%3A%2F%2Fwww.cs.toronto.edu%2F~vmnih%2Fdocs%2Fdqn.pdf&usg=AFQjCNEd1AJoM72DeDpI_GBoPuv7NnVoFA)\n",
    "- [2] Mnih, Volodymyr, et al. \"Human-level control through deep reinforcement learning.\" Nature 518.7540 (2015): 529-533. [[pdf]](https://www.nature.com/nature/journal/v518/n7540/pdf/nature14236.pdf)\n",
    "- [3] OpenAI GYM website [[link]](https://gym.openai.com/envs) and [[git]](https://github.com/openai/gym)"
   ]
  },
  {
   "cell_type": "markdown",
   "metadata": {},
   "source": [
    "## 0. OpenAI Gym\n",
    "\n",
    "OpenAI Gym is a toolkit to support diverse environments for developing reinforcement learning algorithms. You can use the toolkit with Python as well as TensorFlow. Installation guide of OpenAI Gym is offered by [this link](https://github.com/openai/gym#installation) or just type the command \"pip install gym\" (as well as \"pip install gym[atari]\" for Part2). \n",
    "\n",
    "After you set up OpenAI Gym, you can use APIs of the toolkit by inserting <font color=red>import gym</font> into your code. In this assignment, you must build one of famous reinforcement learning algorithms whose agent can run on OpenAI Gym environments. Please check how to use APIs such as funcions interacting with environments in the followings."
   ]
  },
  {
   "cell_type": "code",
   "execution_count": 1,
   "metadata": {
    "collapsed": true
   },
   "outputs": [],
   "source": [
    "#import matplotlib.pyplot as plt\n",
    "import tensorflow as tf\n",
    "import cv2 \n",
    "import gym\n",
    "import numpy as np\n",
    "import os"
   ]
  },
  {
   "cell_type": "code",
   "execution_count": 2,
   "metadata": {
    "collapsed": true
   },
   "outputs": [
    {
     "name": "stdout",
     "output_type": "stream",
     "text": [
      "2\n",
      "(4,)\n"
     ]
    }
   ],
   "source": [
    "# Make an environment instance of CartPole-v0.\n",
    "env = gym.make('CartPole-v0')\n",
    "\n",
    "# Before interacting with the environment and starting a new episode, you must reset the environment's state.\n",
    "state = env.reset()\n",
    "\n",
    "# Uncomment to show the screenshot of the environment (rendering game screens)\n",
    "# env.render() \n",
    "\n",
    "# You can check action space and state (observation) space.\n",
    "num_actions = env.action_space.n\n",
    "state_shape = env.observation_space.shape\n",
    "print(num_actions)\n",
    "print(state_shape)\n",
    "\n",
    "# \"step\" function performs agent's actions given current state of the environment and returns several values.\n",
    "# Input: action (numerical data)\n",
    "#        - env.action_space.sample(): select a random action among possible actions.\n",
    "# Output: next_state (numerical data, next state of the environment after performing given action)\n",
    "#         reward (numerical data, reward of given action given current state)\n",
    "#         terminal (boolean data, True means the agent is done in the environment)\n",
    "next_state, reward, terminal, info = env.step(env.action_space.sample())"
   ]
  },
  {
   "cell_type": "markdown",
   "metadata": {},
   "source": [
    "## 1. Implement a DQN agent\n",
    "## 1) Overview of implementation in the notebook\n",
    "\n",
    "The assignment is based on a method named by Deep Q-Network (DQN) [1,2]. You could find the details of DQN in the papers. The followings show briefly architecture of DQN and its training computation flow.\n",
    "\n",
    "- (Pink flow) Play an episode and save transition records of the episode into a replay memory.\n",
    "- (Green flow) Train DQN so that a loss function in the figure is minimized. The loss function is computed using main Q-network and Target Q-network. Target Q-network needs to be periodically updated by copying the main Q-network.\n",
    "- (Purple flow) Gradient can be autonomously computed by tensorflow engine, if you build a proper optimizer.\n",
    "\n",
    "![](image/architecture.png)\n",
    "\n",
    "There are major 4 components, each of which needs to be implemented in this notebook. The Agent class must have an instance(s) of each class (Environment, DQN, ReplayMemory).\n",
    "- Environment\n",
    "- DQN \n",
    "- ReplayMemory\n",
    "- Agent\n",
    "\n",
    "![](image/components.png)\n",
    "\n"
   ]
  },
  {
   "cell_type": "markdown",
   "metadata": {},
   "source": [
    "## 2) Design classes\n",
    "\n",
    "In the code cells, there are only names of functions which are used in TA's implementation and their brief explanations. <font color='green'>...</font> means that the functions need more arguments and <font color='green'>pass</font> means that you need to write more codes. The functions may be helpful when you do not know how to start the assignment. Of course, you could change the functions such as deleting/adding functions or extending/reducing roles of the classes, <font color='red'> just keeping the existence of the classes</font>.\n",
    "\n",
    "### Environment class"
   ]
  },
  {
   "cell_type": "code",
   "execution_count": 3,
   "metadata": {},
   "outputs": [],
   "source": [
    "class Environment(object):\n",
    "    def __init__(self, args):\n",
    "        self.args = args\n",
    "        self.env = env\n",
    "        self.num_actions = num_actions\n",
    "        self.state_shape = list(state_shape)\n",
    "        \n",
    "    def random_action(self):\n",
    "        # Return a random action.\n",
    "        return self.env.action_space.sample()\n",
    "    \n",
    "    def render_worker(self):\n",
    "        # If display in your option is true, do rendering. Otherwise, do not.\n",
    "        if self.args.display:\n",
    "            self.env.render()\n",
    "            sleep(self.args.display_interval)\n",
    "    \n",
    "    def new_episode(self):\n",
    "        # Sart a new episode and return the first state of the new episode.\n",
    "        return self.env.reset()\n",
    "    \n",
    "    def act(self, action):\n",
    "        # Perform an action which is given by input argument and return the results of acting.\n",
    "        self.state, self.reward, self.terminal, self.info = self.env.step(action)\n",
    "        self.render_worker()\n",
    "        return self.state, self.reward, self.terminal"
   ]
  },
  {
   "cell_type": "markdown",
   "metadata": {},
   "source": [
    "### ReplayMemory class"
   ]
  },
  {
   "cell_type": "code",
   "execution_count": 4,
   "metadata": {
    "collapsed": true
   },
   "outputs": [],
   "source": [
    "class ReplayMemory(object):\n",
    "    def __init__(self, args, state_shape):\n",
    "        self.args = args\n",
    "        self.state_shape = state_shape\n",
    "        self.count = 0\n",
    "        self.current = 0\n",
    "        \n",
    "        self.actions = np.empty(self.args.memory_size, dtype=np.uint8)\n",
    "        self.rewards = np.empty(self.args.memory_size, dtype=np.float32)\n",
    "        self.terminals = np.empty(self.args.memory_size, dtype=np.bool)\n",
    "        self.next_states = np.empty([self.args.memory_size] + self.state_shape, dtype=np.float32)\n",
    "        self.prestates = np.empty([self.args.batch_size] + self.state_shape, dtype=np.float32)\n",
    "        self.poststates = np.empty([self.args.batch_size] + self.state_shape, dtype=np.float32)\n",
    "        \n",
    "    def add(self, action, reward, terminal, next_state):\n",
    "        # Add current_state, action, reward, terminal, (next_state which can be added by your choice). \n",
    "        self.actions[self.current] = action\n",
    "        self.rewards[self.current] = reward\n",
    "        self.terminals[self.current] = terminal\n",
    "        self.next_states[self.current] = next_state\n",
    "        self.count = max(self.count, self.current+1)\n",
    "        self.current = (self.current+1) % self.args.memory_size\n",
    "    \n",
    "    def mini_batch(self):\n",
    "        # Return a mini_batch whose data are selected according to your sampling method. (such as uniform-random sampling in DQN papers)\n",
    "        batch_indices = []\n",
    "        while len(batch_indices) < self.args.batch_size:\n",
    "            while True:\n",
    "                idx = np.random.randint(low=1, high=self.count)\n",
    "                if idx == self.current:\n",
    "                    # (self.current - 1) memory is not related to (self.current) memory.\n",
    "                    continue\n",
    "                if self.terminals[idx-1]:\n",
    "                    # (idx) terminal memory is not related to (idx+1) memory.\n",
    "                    # (idx+1) memory is included in a new episode.\n",
    "                    continue\n",
    "                break\n",
    "            self.prestates[len(batch_indices)] = self.next_states[idx-1]\n",
    "            self.poststates[len(batch_indices)] = self.next_states[idx]\n",
    "            batch_indices.append(idx)\n",
    "            \n",
    "        actions = self.actions[batch_indices]\n",
    "        rewards = self.rewards[batch_indices]\n",
    "        terminals = self.rewards[batch_indices]\n",
    "        return self.prestates, actions, rewards, terminals, self.poststates"
   ]
  },
  {
   "cell_type": "markdown",
   "metadata": {},
   "source": [
    "### DQN class"
   ]
  },
  {
   "cell_type": "code",
   "execution_count": 5,
   "metadata": {
    "collapsed": true
   },
   "outputs": [],
   "source": [
    "class DQN(object):\n",
    "    def __init__(self, args, sess, memory, environment):\n",
    "        self.args = args\n",
    "        self.sess = sess\n",
    "        self.memory = memory\n",
    "        self.env = environment\n",
    "        \n",
    "        self.num_actions = num_actions\n",
    "        self.input_shape = self.memory.state_shape\n",
    "        self.kernel_initializer = tf.truncated_normal_initializer(mean=0.0, stddev=0.02)\n",
    "        self.bias_initializer = tf.constant_initializer(0.05)\n",
    "        \n",
    "        self.states = tf.placeholder(tf.float32, [None] + self.input_shape)\n",
    "        self.actions = tf.placeholder(tf.uint8, [None])\n",
    "        self.rewards = tf.placeholder(tf.float32, [None])\n",
    "        self.terminals = tf.placeholder(tf.float32, [None])\n",
    "        self.max_q = tf.placeholder(tf.float32, [None])\n",
    "        \n",
    "        self.prediction_Q = self.build_network('pred')\n",
    "        self.target_Q = self.build_network('target')\n",
    "        self.loss, self.optimizer = self.build_optimizer()\n",
    "    \n",
    "    def build_network(self, name):\n",
    "        # Make your a deep neural network\n",
    "        with tf.variable_scope(name):\n",
    "            fc1 = tf.layers.dense(inputs=self.states, units=10, activation=tf.nn.relu, kernel_initializer=self.kernel_initializer)\n",
    "            Q = tf.layers.dense(inputs=fc1, units=self.num_actions, activation=None, kernel_initializer=self.kernel_initializer)\n",
    "            return Q\n",
    "        \n",
    "    def build_optimizer(self):\n",
    "        # Make your optimizer \n",
    "        # Graph to calculate the target Q value (= r + gamma * maxQ(next_state))\n",
    "        target_q = self.rewards + tf.multiply(1-self.terminals, tf.multiply(self.args.discount_factor, self.max_q))\n",
    "        \n",
    "        # Graph to calculate the predicted Q value\n",
    "        action_one_hot = tf.one_hot(indices=self.actions, depth=self.num_actions, on_value=1.0, off_value=0.0)\n",
    "        pred_q = tf.reduce_sum(tf.multiply(self.prediction_Q, action_one_hot), reduction_indices=1)\n",
    "        \n",
    "        # Graph to calculate the loss and make an optimizer\n",
    "        loss = tf.reduce_mean(tf.square(pred_q - target_q))\n",
    "        optimizer = tf.train.AdamOptimizer(learning_rate=self.args.learning_rate).minimize(loss)\n",
    "        \n",
    "        return loss, optimizer\n",
    "    \n",
    "    def train_network(self):\n",
    "        # Train the prediction_Q network using a mini-batch sampled from the replay memory\n",
    "        # Fetch a minibatch from the replay memory.\n",
    "        mb_prestates, mb_actions, mb_rewards, mb_terminals, mb_poststates = self.memory.mini_batch()\n",
    "        \n",
    "        # Calculate the target Q value (batch)\n",
    "        mb_q_poststates = self.sess.run(self.target_Q, feed_dict={self.states: mb_poststates})\n",
    "        mb_max_q = np.max(mb_q_poststates, axis=1)\n",
    "        \n",
    "        # Run optimizer\n",
    "        feeds = {self.states: mb_prestates, self.actions: mb_actions, self.rewards: mb_rewards,\n",
    "                 self.terminals: mb_terminals, self.max_q: mb_max_q}\n",
    "        \n",
    "        return self.sess.run([self.loss, self.optimizer], feed_dict=feeds)\n",
    "        \n",
    "    def update_target_network(self):\n",
    "        copy_op = []\n",
    "        pred_vars = tf.get_collection(tf.GraphKeys.TRAINABLE_VARIABLES, scope='pred')\n",
    "        target_vars = tf.get_collection(tf.GraphKeys.TRAINABLE_VARIABLES, scope='target')\n",
    "        for pred_var, target_var in zip(pred_vars, target_vars):\n",
    "            copy_op.append(target_var.assign(pred_var.value()))\n",
    "        self.sess.run(copy_op)\n",
    "    \n",
    "    def predict_Q(self, state):\n",
    "        # Which code is good?\n",
    "        return self.sess.run(self.prediction_Q, feed_dict={self.states: [state]})\n",
    "    "
   ]
  },
  {
   "cell_type": "markdown",
   "metadata": {},
   "source": [
    "### Agent class"
   ]
  },
  {
   "cell_type": "code",
   "execution_count": 6,
   "metadata": {
    "collapsed": true
   },
   "outputs": [],
   "source": [
    "import os # to save and load\n",
    "import time\n",
    "from tqdm import tqdm\n",
    "\n",
    "class Agent(object):\n",
    "    def __init__(self, args, sess):\n",
    "        self.args = args\n",
    "        self.sess = sess\n",
    "        self.env = Environment(args)\n",
    "        self.memory = ReplayMemory(args, self.env.state_shape)\n",
    "        self.dqn = DQN(self.args, self.sess, self.memory, self.env)\n",
    "        \n",
    "        self.saver = tf.train.Saver()\n",
    "        self.sess.run(tf.global_variables_initializer())\n",
    "        \n",
    "        # Synchronize the target network with the main network\n",
    "        self.dqn.update_target_network()\n",
    "        \n",
    "        # Seed of the random number generator\n",
    "        np.random.seed(int(time.time()))\n",
    "    \n",
    "    def select_action(self):\n",
    "        # Select an action according ε-greedy. You need to use a random-number generating function and add a library if necessary.\n",
    "        if self.args.train:\n",
    "            self.eps = np.max([self.args.eps_min, \n",
    "                               self.args.eps_init - (self.args.eps_init - self.args.eps_min)*(float(self.step)/float(self.args.max_exploration_step))])\n",
    "        else:\n",
    "            self.eps = self.args.eps_test\n",
    "        \n",
    "        if np.random.rand() < self.eps:\n",
    "            action = self.env.random_action()\n",
    "        else:\n",
    "            q = self.dqn.predict_Q(self.state)[0]\n",
    "            action = np.argmax(q)\n",
    "        \n",
    "        return action\n",
    "    \n",
    "    def train(self):\n",
    "        # Train your agent which has the neural nets.\n",
    "        # Several hyper-parameters are determined by your choice (Options class in the below cell)\n",
    "        # Keep epsilon-greedy action selection in your mind \n",
    "        episodes_count = 0\n",
    "        best_reward = 0\n",
    "        episode_reward = 0\n",
    "        episode_rewards = []\n",
    "        \n",
    "        print('** Start to Make Random Memory **')\n",
    "        self.state = self.env.new_episode()\n",
    "        for self.step in tqdm(range(1, self.args.max_step + 1), ncols=70, initial=0):\n",
    "            # Select an action by epsilon-greedy\n",
    "            action = self.select_action()\n",
    "            # Perform the action and receive information of the environment\n",
    "            next_state, reward, terminal = self.env.act(action)\n",
    "            # Save the information\n",
    "            self.memory.add(action, reward, terminal, next_state)\n",
    "            # Update the input state\n",
    "            self.state = next_state\n",
    "            \n",
    "            episode_reward += reward\n",
    "            if terminal:\n",
    "                episodes_count += 1\n",
    "                episode_rewards.append(episode_reward)\n",
    "                if episode_reward > best_reward:\n",
    "                    best_reward = episode_reward\n",
    "                episode_reward = 0\n",
    "                self.state = self.env.new_episode()\n",
    "            \n",
    "            # Periodically update main network and target network\n",
    "            if self.step >= self.args.training_start_step:\n",
    "                if self.step == self.args.training_start_step:\n",
    "                    print('** Start to upate the network **')\n",
    "                if self.step % self.args.train_interval == 0:\n",
    "                    loss, _ = self.dqn.train_network()\n",
    "                if self.step % self.args.copy_interval == 0:\n",
    "                    self.dqn.update_target_network()\n",
    "                if self.step % self.args.show_interval == 0:\n",
    "                    avg_r = np.mean(episode_rewards)\n",
    "                    max_r = np.max(episode_rewards)\n",
    "                    min_r = np.min(episode_rewards)\n",
    "                    if max_r > best_reward:\n",
    "                        best_reward = max_r\n",
    "                        self.save()\n",
    "                    tqdm.write('\\n[recent %d episodes at %d step] avg_r: %.4f, max_r: %d, min_r: %d, Best reward: %d'\n",
    "                            %(len(episode_rewards), self.step, avg_r, max_r, min_r, best_reward))\n",
    "                    episode_rewards = []\n",
    "    \n",
    "    def play(self, num_episode=10, load=True):\n",
    "        # Test your agent \n",
    "        # When performing test, you can show the environment's screen by rendering,\n",
    "        if load:\n",
    "            if not self.load():\n",
    "                exit()\n",
    "                \n",
    "        best_reward = 0\n",
    "        for episode in range(num_episode):\n",
    "            self.state = self.env.new_episode()\n",
    "            current_reward = 0\n",
    "            \n",
    "            terminal = False\n",
    "            while not terminal:\n",
    "                action = self.select_action()\n",
    "                next_state, reward, terminal = self.env.act(action)\n",
    "                self.state = next_state\n",
    "                \n",
    "                current_reward += reward\n",
    "                if terminal:\n",
    "                    break\n",
    "            \n",
    "            if current_reward > best_reward:\n",
    "                best_reward = current_reward\n",
    "            #print('<%d> Current reward: %d' % (episode, current_reward))\n",
    "        print('** Reward: %d\\n' % best_reward)\n",
    "        \n",
    "        return best_reward\n",
    "    \n",
    "    def save(self):\n",
    "        checkpoint_dir = 'cartpole'\n",
    "        if not os.path.exists(checkpoint_dir):\n",
    "            os.mkdir(checkpoint_dir)\n",
    "        self.saver.save(self.sess, os.path.join(checkpoint_dir, 'trained_agent'))\n",
    "        \n",
    "    def load(self):\n",
    "        print('Loading checkpoint...!')\n",
    "        checkpoint_dir = 'cartpole'\n",
    "        checkpoint_state = tf.train.get_checkpoint_state(checkpoint_dir)\n",
    "        self.saver.restore(self.sess, os.path.join(checkpoint_dir, 'trained_agent'))\n",
    "        print('Success to load checkpoint')\n",
    "    "
   ]
  },
  {
   "cell_type": "markdown",
   "metadata": {},
   "source": [
    "## 2. Train your agent \n",
    "\n",
    "Now, you train an agent to play CartPole-v0. Options class is the collection of hyper-parameters that you can choice. Usage of Options class is not mandatory.<br>\n",
    "The maximum value of total reward which can be aquired from one episode is 200. \n",
    "<font color='red'>**You should show learning status such as the number of observed states and mean/max/min of rewards frequently (for instance, every 100 states).**</font>"
   ]
  },
  {
   "cell_type": "code",
   "execution_count": 7,
   "metadata": {
    "collapsed": true
   },
   "outputs": [
    {
     "name": "stderr",
     "output_type": "stream",
     "text": [
      "  0%|                                      | 0/100000 [00:00<?, ?it/s]"
     ]
    },
    {
     "name": "stdout",
     "output_type": "stream",
     "text": [
      "** Start to Make Random Memory **\n"
     ]
    },
    {
     "name": "stderr",
     "output_type": "stream",
     "text": [
      "  0%|                           | 128/100000 [00:00<09:21, 177.98it/s]"
     ]
    },
    {
     "name": "stdout",
     "output_type": "stream",
     "text": [
      "** Start to upate the network **\n"
     ]
    },
    {
     "name": "stderr",
     "output_type": "stream",
     "text": [
      "  2%|▌                         | 2030/100000 [00:06<05:30, 296.56it/s]"
     ]
    },
    {
     "name": "stdout",
     "output_type": "stream",
     "text": [
      "\n",
      "[recent 83 episodes at 2000 step] avg_r: 23.8434, max_r: 75, min_r: 9, Best reward: 75\n"
     ]
    },
    {
     "name": "stderr",
     "output_type": "stream",
     "text": [
      "  4%|█                         | 4043/100000 [00:13<05:26, 294.34it/s]"
     ]
    },
    {
     "name": "stdout",
     "output_type": "stream",
     "text": [
      "\n",
      "[recent 69 episodes at 4000 step] avg_r: 29.1449, max_r: 101, min_r: 10, Best reward: 101\n"
     ]
    },
    {
     "name": "stderr",
     "output_type": "stream",
     "text": [
      "  6%|█▌                        | 6042/100000 [00:20<05:20, 292.97it/s]"
     ]
    },
    {
     "name": "stdout",
     "output_type": "stream",
     "text": [
      "\n",
      "[recent 99 episodes at 6000 step] avg_r: 20.1111, max_r: 60, min_r: 8, Best reward: 101\n"
     ]
    },
    {
     "name": "stderr",
     "output_type": "stream",
     "text": [
      "  8%|██                        | 8052/100000 [00:28<05:19, 287.45it/s]"
     ]
    },
    {
     "name": "stdout",
     "output_type": "stream",
     "text": [
      "\n",
      "[recent 72 episodes at 8000 step] avg_r: 27.9722, max_r: 60, min_r: 8, Best reward: 101\n"
     ]
    },
    {
     "name": "stderr",
     "output_type": "stream",
     "text": [
      " 10%|██▌                      | 10027/100000 [00:35<05:20, 281.10it/s]"
     ]
    },
    {
     "name": "stdout",
     "output_type": "stream",
     "text": [
      "\n",
      "[recent 77 episodes at 10000 step] avg_r: 25.9481, max_r: 76, min_r: 9, Best reward: 101\n"
     ]
    },
    {
     "name": "stderr",
     "output_type": "stream",
     "text": [
      " 12%|███                      | 12049/100000 [00:43<05:17, 277.04it/s]"
     ]
    },
    {
     "name": "stdout",
     "output_type": "stream",
     "text": [
      "\n",
      "[recent 96 episodes at 12000 step] avg_r: 20.7604, max_r: 67, min_r: 9, Best reward: 101\n"
     ]
    },
    {
     "name": "stderr",
     "output_type": "stream",
     "text": [
      " 14%|███▌                     | 14033/100000 [00:51<05:13, 274.11it/s]"
     ]
    },
    {
     "name": "stdout",
     "output_type": "stream",
     "text": [
      "\n",
      "[recent 88 episodes at 14000 step] avg_r: 22.8182, max_r: 55, min_r: 8, Best reward: 101\n"
     ]
    },
    {
     "name": "stderr",
     "output_type": "stream",
     "text": [
      " 16%|████                     | 16030/100000 [00:58<05:08, 272.01it/s]"
     ]
    },
    {
     "name": "stdout",
     "output_type": "stream",
     "text": [
      "\n",
      "[recent 87 episodes at 16000 step] avg_r: 22.8161, max_r: 50, min_r: 8, Best reward: 101\n"
     ]
    },
    {
     "name": "stderr",
     "output_type": "stream",
     "text": [
      " 18%|████▌                    | 18032/100000 [01:06<05:03, 270.28it/s]"
     ]
    },
    {
     "name": "stdout",
     "output_type": "stream",
     "text": [
      "\n",
      "[recent 78 episodes at 18000 step] avg_r: 25.7179, max_r: 59, min_r: 11, Best reward: 101\n"
     ]
    },
    {
     "name": "stderr",
     "output_type": "stream",
     "text": [
      " 20%|█████                    | 20034/100000 [01:14<04:57, 269.05it/s]"
     ]
    },
    {
     "name": "stdout",
     "output_type": "stream",
     "text": [
      "\n",
      "[recent 99 episodes at 20000 step] avg_r: 20.2727, max_r: 65, min_r: 8, Best reward: 101\n"
     ]
    },
    {
     "name": "stderr",
     "output_type": "stream",
     "text": [
      " 22%|█████▌                   | 22046/100000 [01:22<04:51, 267.61it/s]"
     ]
    },
    {
     "name": "stdout",
     "output_type": "stream",
     "text": [
      "\n",
      "[recent 108 episodes at 22000 step] avg_r: 18.5648, max_r: 52, min_r: 8, Best reward: 101\n"
     ]
    },
    {
     "name": "stderr",
     "output_type": "stream",
     "text": [
      " 24%|██████                   | 24048/100000 [01:30<04:44, 266.93it/s]"
     ]
    },
    {
     "name": "stdout",
     "output_type": "stream",
     "text": [
      "\n",
      "[recent 106 episodes at 24000 step] avg_r: 18.6509, max_r: 53, min_r: 8, Best reward: 101\n"
     ]
    },
    {
     "name": "stderr",
     "output_type": "stream",
     "text": [
      " 26%|██████▌                  | 26052/100000 [01:37<04:37, 266.38it/s]"
     ]
    },
    {
     "name": "stdout",
     "output_type": "stream",
     "text": [
      "\n",
      "[recent 88 episodes at 26000 step] avg_r: 22.9091, max_r: 87, min_r: 8, Best reward: 101\n"
     ]
    },
    {
     "name": "stderr",
     "output_type": "stream",
     "text": [
      " 28%|███████                  | 28051/100000 [01:45<04:30, 266.02it/s]"
     ]
    },
    {
     "name": "stdout",
     "output_type": "stream",
     "text": [
      "\n",
      "[recent 107 episodes at 28000 step] avg_r: 18.6822, max_r: 58, min_r: 8, Best reward: 101\n"
     ]
    },
    {
     "name": "stderr",
     "output_type": "stream",
     "text": [
      " 30%|███████▌                 | 30041/100000 [01:53<04:23, 265.72it/s]"
     ]
    },
    {
     "name": "stdout",
     "output_type": "stream",
     "text": [
      "\n",
      "[recent 106 episodes at 30000 step] avg_r: 18.7925, max_r: 68, min_r: 9, Best reward: 101\n"
     ]
    },
    {
     "name": "stderr",
     "output_type": "stream",
     "text": [
      " 32%|████████                 | 32036/100000 [02:00<04:16, 265.27it/s]"
     ]
    },
    {
     "name": "stdout",
     "output_type": "stream",
     "text": [
      "\n",
      "[recent 119 episodes at 32000 step] avg_r: 16.9412, max_r: 58, min_r: 8, Best reward: 101\n"
     ]
    },
    {
     "name": "stderr",
     "output_type": "stream",
     "text": [
      " 34%|████████▌                | 34037/100000 [02:08<04:09, 264.85it/s]"
     ]
    },
    {
     "name": "stdout",
     "output_type": "stream",
     "text": [
      "\n",
      "[recent 107 episodes at 34000 step] avg_r: 18.4486, max_r: 56, min_r: 8, Best reward: 101\n"
     ]
    },
    {
     "name": "stderr",
     "output_type": "stream",
     "text": [
      " 36%|█████████                | 36032/100000 [02:16<04:01, 264.49it/s]"
     ]
    },
    {
     "name": "stdout",
     "output_type": "stream",
     "text": [
      "\n",
      "[recent 97 episodes at 36000 step] avg_r: 20.9175, max_r: 71, min_r: 8, Best reward: 101\n"
     ]
    },
    {
     "name": "stderr",
     "output_type": "stream",
     "text": [
      " 38%|█████████▌               | 38044/100000 [02:24<03:54, 263.99it/s]"
     ]
    },
    {
     "name": "stdout",
     "output_type": "stream",
     "text": [
      "\n",
      "[recent 96 episodes at 38000 step] avg_r: 20.6771, max_r: 69, min_r: 9, Best reward: 101\n"
     ]
    },
    {
     "name": "stderr",
     "output_type": "stream",
     "text": [
      " 40%|██████████               | 40038/100000 [02:31<03:47, 263.46it/s]"
     ]
    },
    {
     "name": "stdout",
     "output_type": "stream",
     "text": [
      "\n",
      "[recent 98 episodes at 40000 step] avg_r: 20.5102, max_r: 64, min_r: 8, Best reward: 101\n"
     ]
    },
    {
     "name": "stderr",
     "output_type": "stream",
     "text": [
      " 42%|██████████▌              | 42047/100000 [02:39<03:40, 263.14it/s]"
     ]
    },
    {
     "name": "stdout",
     "output_type": "stream",
     "text": [
      "\n",
      "[recent 99 episodes at 42000 step] avg_r: 20.0606, max_r: 75, min_r: 8, Best reward: 101\n"
     ]
    },
    {
     "name": "stderr",
     "output_type": "stream",
     "text": [
      " 44%|███████████              | 44036/100000 [02:47<03:33, 262.37it/s]"
     ]
    },
    {
     "name": "stdout",
     "output_type": "stream",
     "text": [
      "\n",
      "[recent 100 episodes at 44000 step] avg_r: 20.0500, max_r: 58, min_r: 8, Best reward: 101\n"
     ]
    },
    {
     "name": "stderr",
     "output_type": "stream",
     "text": [
      " 46%|███████████▌             | 46049/100000 [02:55<03:26, 261.84it/s]"
     ]
    },
    {
     "name": "stdout",
     "output_type": "stream",
     "text": [
      "\n",
      "[recent 98 episodes at 46000 step] avg_r: 20.5408, max_r: 65, min_r: 8, Best reward: 101\n"
     ]
    },
    {
     "name": "stderr",
     "output_type": "stream",
     "text": [
      " 48%|████████████             | 48050/100000 [03:03<03:18, 261.65it/s]"
     ]
    },
    {
     "name": "stdout",
     "output_type": "stream",
     "text": [
      "\n",
      "[recent 102 episodes at 48000 step] avg_r: 19.4902, max_r: 85, min_r: 8, Best reward: 101\n"
     ]
    },
    {
     "name": "stderr",
     "output_type": "stream",
     "text": [
      " 50%|████████████▌            | 50041/100000 [03:11<03:11, 261.27it/s]"
     ]
    },
    {
     "name": "stdout",
     "output_type": "stream",
     "text": [
      "\n",
      "[recent 88 episodes at 50000 step] avg_r: 22.8409, max_r: 66, min_r: 9, Best reward: 101\n"
     ]
    },
    {
     "name": "stderr",
     "output_type": "stream",
     "text": [
      " 52%|█████████████            | 52049/100000 [03:19<03:03, 261.06it/s]"
     ]
    },
    {
     "name": "stdout",
     "output_type": "stream",
     "text": [
      "\n",
      "[recent 104 episodes at 52000 step] avg_r: 19.1827, max_r: 61, min_r: 8, Best reward: 101\n"
     ]
    },
    {
     "name": "stderr",
     "output_type": "stream",
     "text": [
      " 54%|█████████████▌           | 54033/100000 [03:27<02:56, 260.66it/s]"
     ]
    },
    {
     "name": "stdout",
     "output_type": "stream",
     "text": [
      "\n",
      "[recent 100 episodes at 54000 step] avg_r: 19.9700, max_r: 49, min_r: 8, Best reward: 101\n"
     ]
    },
    {
     "name": "stderr",
     "output_type": "stream",
     "text": [
      " 56%|██████████████           | 56027/100000 [03:35<02:49, 260.15it/s]"
     ]
    },
    {
     "name": "stdout",
     "output_type": "stream",
     "text": [
      "\n",
      "[recent 82 episodes at 56000 step] avg_r: 24.4634, max_r: 74, min_r: 9, Best reward: 101\n"
     ]
    },
    {
     "name": "stderr",
     "output_type": "stream",
     "text": [
      " 58%|██████████████▌          | 58042/100000 [03:43<02:41, 260.15it/s]"
     ]
    },
    {
     "name": "stdout",
     "output_type": "stream",
     "text": [
      "\n",
      "[recent 95 episodes at 58000 step] avg_r: 20.9368, max_r: 48, min_r: 8, Best reward: 101\n"
     ]
    },
    {
     "name": "stderr",
     "output_type": "stream",
     "text": [
      " 60%|███████████████          | 60053/100000 [03:50<02:33, 260.22it/s]"
     ]
    },
    {
     "name": "stdout",
     "output_type": "stream",
     "text": [
      "\n",
      "[recent 92 episodes at 60000 step] avg_r: 21.8804, max_r: 61, min_r: 8, Best reward: 101\n"
     ]
    },
    {
     "name": "stderr",
     "output_type": "stream",
     "text": [
      " 62%|███████████████▌         | 62047/100000 [03:58<02:25, 259.95it/s]"
     ]
    },
    {
     "name": "stdout",
     "output_type": "stream",
     "text": [
      "\n",
      "[recent 99 episodes at 62000 step] avg_r: 20.1010, max_r: 101, min_r: 8, Best reward: 101\n"
     ]
    },
    {
     "name": "stderr",
     "output_type": "stream",
     "text": [
      " 64%|████████████████         | 64024/100000 [04:06<02:18, 259.75it/s]"
     ]
    },
    {
     "name": "stdout",
     "output_type": "stream",
     "text": [
      "\n",
      "[recent 104 episodes at 64000 step] avg_r: 19.1923, max_r: 50, min_r: 9, Best reward: 101\n"
     ]
    },
    {
     "name": "stderr",
     "output_type": "stream",
     "text": [
      " 66%|████████████████▌        | 66022/100000 [04:14<02:10, 259.53it/s]"
     ]
    },
    {
     "name": "stdout",
     "output_type": "stream",
     "text": [
      "\n",
      "[recent 87 episodes at 66000 step] avg_r: 23.1609, max_r: 68, min_r: 9, Best reward: 101\n"
     ]
    },
    {
     "name": "stderr",
     "output_type": "stream",
     "text": [
      " 68%|█████████████████        | 68026/100000 [04:22<02:03, 259.23it/s]"
     ]
    },
    {
     "name": "stdout",
     "output_type": "stream",
     "text": [
      "\n",
      "[recent 83 episodes at 68000 step] avg_r: 24.1205, max_r: 60, min_r: 8, Best reward: 101\n"
     ]
    },
    {
     "name": "stderr",
     "output_type": "stream",
     "text": [
      " 70%|█████████████████▌       | 70024/100000 [04:30<01:55, 258.94it/s]"
     ]
    },
    {
     "name": "stdout",
     "output_type": "stream",
     "text": [
      "\n",
      "[recent 96 episodes at 70000 step] avg_r: 20.7396, max_r: 76, min_r: 8, Best reward: 101\n"
     ]
    },
    {
     "name": "stderr",
     "output_type": "stream",
     "text": [
      " 72%|██████████████████       | 72045/100000 [04:38<01:48, 258.77it/s]"
     ]
    },
    {
     "name": "stdout",
     "output_type": "stream",
     "text": [
      "\n",
      "[recent 100 episodes at 72000 step] avg_r: 19.9400, max_r: 64, min_r: 8, Best reward: 101\n"
     ]
    },
    {
     "name": "stderr",
     "output_type": "stream",
     "text": [
      " 74%|██████████████████▌      | 74049/100000 [04:46<01:40, 258.78it/s]"
     ]
    },
    {
     "name": "stdout",
     "output_type": "stream",
     "text": [
      "\n",
      "[recent 88 episodes at 74000 step] avg_r: 22.8068, max_r: 58, min_r: 8, Best reward: 101\n"
     ]
    },
    {
     "name": "stderr",
     "output_type": "stream",
     "text": [
      " 76%|███████████████████      | 76040/100000 [04:54<01:32, 258.48it/s]"
     ]
    },
    {
     "name": "stdout",
     "output_type": "stream",
     "text": [
      "\n",
      "[recent 99 episodes at 76000 step] avg_r: 20.0101, max_r: 75, min_r: 8, Best reward: 101\n"
     ]
    },
    {
     "name": "stderr",
     "output_type": "stream",
     "text": [
      " 78%|███████████████████▌     | 78042/100000 [05:01<01:24, 258.49it/s]"
     ]
    },
    {
     "name": "stdout",
     "output_type": "stream",
     "text": [
      "\n",
      "[recent 90 episodes at 78000 step] avg_r: 22.5111, max_r: 65, min_r: 8, Best reward: 101\n"
     ]
    },
    {
     "name": "stderr",
     "output_type": "stream",
     "text": [
      " 80%|████████████████████     | 80024/100000 [05:09<01:17, 258.30it/s]"
     ]
    },
    {
     "name": "stdout",
     "output_type": "stream",
     "text": [
      "\n",
      "[recent 84 episodes at 80000 step] avg_r: 23.7262, max_r: 78, min_r: 9, Best reward: 101\n"
     ]
    },
    {
     "name": "stderr",
     "output_type": "stream",
     "text": [
      " 82%|████████████████████▌    | 82037/100000 [05:17<01:09, 258.00it/s]"
     ]
    },
    {
     "name": "stdout",
     "output_type": "stream",
     "text": [
      "\n",
      "[recent 83 episodes at 82000 step] avg_r: 23.4819, max_r: 76, min_r: 10, Best reward: 101\n"
     ]
    },
    {
     "name": "stderr",
     "output_type": "stream",
     "text": [
      " 84%|█████████████████████    | 84046/100000 [05:25<01:01, 257.92it/s]"
     ]
    },
    {
     "name": "stdout",
     "output_type": "stream",
     "text": [
      "\n",
      "[recent 89 episodes at 84000 step] avg_r: 23.0899, max_r: 60, min_r: 8, Best reward: 101\n"
     ]
    },
    {
     "name": "stderr",
     "output_type": "stream",
     "text": [
      " 86%|█████████████████████▌   | 86035/100000 [05:33<00:54, 257.97it/s]"
     ]
    },
    {
     "name": "stdout",
     "output_type": "stream",
     "text": [
      "\n",
      "[recent 81 episodes at 86000 step] avg_r: 24.6790, max_r: 71, min_r: 11, Best reward: 101\n"
     ]
    },
    {
     "name": "stderr",
     "output_type": "stream",
     "text": [
      " 88%|██████████████████████   | 88042/100000 [05:41<00:46, 257.94it/s]"
     ]
    },
    {
     "name": "stdout",
     "output_type": "stream",
     "text": [
      "\n",
      "[recent 93 episodes at 88000 step] avg_r: 21.4731, max_r: 70, min_r: 8, Best reward: 101\n"
     ]
    },
    {
     "name": "stderr",
     "output_type": "stream",
     "text": [
      " 90%|██████████████████████▌  | 90026/100000 [05:49<00:38, 257.86it/s]"
     ]
    },
    {
     "name": "stdout",
     "output_type": "stream",
     "text": [
      "\n",
      "[recent 92 episodes at 90000 step] avg_r: 21.7500, max_r: 69, min_r: 8, Best reward: 101\n"
     ]
    },
    {
     "name": "stderr",
     "output_type": "stream",
     "text": [
      " 92%|███████████████████████  | 92035/100000 [05:57<00:30, 257.75it/s]"
     ]
    },
    {
     "name": "stdout",
     "output_type": "stream",
     "text": [
      "\n",
      "[recent 93 episodes at 92000 step] avg_r: 21.4409, max_r: 83, min_r: 8, Best reward: 101\n"
     ]
    },
    {
     "name": "stderr",
     "output_type": "stream",
     "text": [
      " 94%|███████████████████████▌ | 94035/100000 [06:05<00:23, 257.51it/s]"
     ]
    },
    {
     "name": "stdout",
     "output_type": "stream",
     "text": [
      "\n",
      "[recent 83 episodes at 94000 step] avg_r: 24.1928, max_r: 84, min_r: 8, Best reward: 101\n"
     ]
    },
    {
     "name": "stderr",
     "output_type": "stream",
     "text": [
      " 96%|████████████████████████ | 96025/100000 [06:12<00:15, 257.45it/s]"
     ]
    },
    {
     "name": "stdout",
     "output_type": "stream",
     "text": [
      "\n",
      "[recent 87 episodes at 96000 step] avg_r: 22.3908, max_r: 64, min_r: 9, Best reward: 101\n"
     ]
    },
    {
     "name": "stderr",
     "output_type": "stream",
     "text": [
      " 98%|████████████████████████▌| 98029/100000 [06:20<00:07, 257.38it/s]"
     ]
    },
    {
     "name": "stdout",
     "output_type": "stream",
     "text": [
      "\n",
      "[recent 73 episodes at 98000 step] avg_r: 27.8356, max_r: 86, min_r: 11, Best reward: 101\n"
     ]
    },
    {
     "name": "stderr",
     "output_type": "stream",
     "text": [
      "100%|████████████████████████| 100000/100000 [06:28<00:00, 257.41it/s]\n"
     ]
    },
    {
     "name": "stdout",
     "output_type": "stream",
     "text": [
      "\n",
      "[recent 115 episodes at 100000 step] avg_r: 17.5130, max_r: 59, min_r: 8, Best reward: 101\n"
     ]
    }
   ],
   "source": [
    "import easydict\n",
    "\n",
    "\"\"\"\n",
    "You can add more arguments.\n",
    "for example, visualize, memory_size, batch_size, discount_factor, eps_max, eps_min, learning_rate, train_interval, copy_interval and so on\n",
    "\"\"\"\n",
    "\n",
    "args = easydict.EasyDict({\n",
    "    \"env-name\" : \"CartPole-v0\",\n",
    "    \"laod_env_name\" : \"CartPole-v0\",\n",
    "    \"train\" : True,\n",
    "    \"display\" : False,\n",
    "    \n",
    "    \"max_step\" : 100000,\n",
    "    \"max_exploration_step\" : 10000,\n",
    "    \"memory_size\" : 100000,\n",
    "    \"batch_size\" : 32,\n",
    "    \"num_skipping_states\" : 4,\n",
    "    \"state_length\" : 4,\n",
    "    \n",
    "    \"discount_factor\" : 0.99,\n",
    "    \"eps_init\" : 1.0,\n",
    "    \"eps_min\" : 0.1,\n",
    "    \"eps_test\" : 0.05,\n",
    "    \"learning_rate\" : 0.00025,\n",
    "    \"random_start\" : 30,\n",
    "    \n",
    "    \"training_start_step\" : 100,\n",
    "    \"train_interval\" : 1,\n",
    "    \"copy_interval\" : 1000,\n",
    "    \"show_interval\" : 2000,\n",
    "    \"display_interval\" : 0.05,\n",
    "    \n",
    "    \"gpu_num\" : 0\n",
    "})\n",
    "\n",
    "# Basic DQN uses just one GPU.\n",
    "os.environ[\"CUDA_VISIBLE_DEVICES\"] = str(args.gpu_num)\n",
    "config = tf.ConfigProto()\n",
    "config.log_device_placement = False\n",
    "config.gpu_options.allow_growth = True\n",
    "\n",
    "# Train\n",
    "with tf.Session(config=config) as sess:\n",
    "    myAgent = Agent(args, sess) # It depends on your class implementation\n",
    "    myAgent.train()\n",
    "    myAgent.save()"
   ]
  },
  {
   "cell_type": "markdown",
   "metadata": {},
   "source": [
    "## <a name=\"play\"></a> 3. Test the trained agent ( 15 points )\n",
    "\n",
    "Now, we test your agent and calculate an average reward of 20 episodes.\n",
    "- 0 <= average reward < 50 : you can get 0 points\n",
    "- 50 <= average reward < 100 : you can get 10 points\n",
    "- 100 <= average reward < 190 : you can get 35 points\n",
    "- 190 <= average reward <= 200 : you can get 50 points"
   ]
  },
  {
   "cell_type": "code",
   "execution_count": 7,
   "metadata": {},
   "outputs": [
    {
     "name": "stdout",
     "output_type": "stream",
     "text": [
      "Loading checkpoint...!\n",
      "INFO:tensorflow:Restoring parameters from cartpole/trained_agent\n",
      "Success to load checkpoint\n",
      "Loading checkpoint...!\n",
      "INFO:tensorflow:Restoring parameters from cartpole/trained_agent\n",
      "Success to load checkpoint\n",
      "** Reward: 10\n",
      "\n",
      "Loading checkpoint...!\n",
      "INFO:tensorflow:Restoring parameters from cartpole/trained_agent\n",
      "Success to load checkpoint\n",
      "** Reward: 25\n",
      "\n",
      "Loading checkpoint...!\n",
      "INFO:tensorflow:Restoring parameters from cartpole/trained_agent\n",
      "Success to load checkpoint\n",
      "** Reward: 51\n",
      "\n",
      "Loading checkpoint...!\n",
      "INFO:tensorflow:Restoring parameters from cartpole/trained_agent\n",
      "Success to load checkpoint\n",
      "** Reward: 38\n",
      "\n",
      "Loading checkpoint...!\n",
      "INFO:tensorflow:Restoring parameters from cartpole/trained_agent\n",
      "Success to load checkpoint\n",
      "** Reward: 22\n",
      "\n",
      "Loading checkpoint...!\n",
      "INFO:tensorflow:Restoring parameters from cartpole/trained_agent\n",
      "Success to load checkpoint\n",
      "** Reward: 42\n",
      "\n",
      "Loading checkpoint...!\n",
      "INFO:tensorflow:Restoring parameters from cartpole/trained_agent\n",
      "Success to load checkpoint\n",
      "** Reward: 35\n",
      "\n",
      "Loading checkpoint...!\n",
      "INFO:tensorflow:Restoring parameters from cartpole/trained_agent\n",
      "Success to load checkpoint\n",
      "** Reward: 29\n",
      "\n",
      "Loading checkpoint...!\n",
      "INFO:tensorflow:Restoring parameters from cartpole/trained_agent\n",
      "Success to load checkpoint\n",
      "** Reward: 43\n",
      "\n",
      "Loading checkpoint...!\n",
      "INFO:tensorflow:Restoring parameters from cartpole/trained_agent\n",
      "Success to load checkpoint\n",
      "** Reward: 46\n",
      "\n",
      "Loading checkpoint...!\n",
      "INFO:tensorflow:Restoring parameters from cartpole/trained_agent\n",
      "Success to load checkpoint\n",
      "** Reward: 35\n",
      "\n",
      "Loading checkpoint...!\n",
      "INFO:tensorflow:Restoring parameters from cartpole/trained_agent\n",
      "Success to load checkpoint\n",
      "** Reward: 42\n",
      "\n",
      "Loading checkpoint...!\n",
      "INFO:tensorflow:Restoring parameters from cartpole/trained_agent\n",
      "Success to load checkpoint\n",
      "** Reward: 31\n",
      "\n",
      "Loading checkpoint...!\n",
      "INFO:tensorflow:Restoring parameters from cartpole/trained_agent\n",
      "Success to load checkpoint\n",
      "** Reward: 52\n",
      "\n",
      "Loading checkpoint...!\n",
      "INFO:tensorflow:Restoring parameters from cartpole/trained_agent\n",
      "Success to load checkpoint\n",
      "** Reward: 26\n",
      "\n",
      "Loading checkpoint...!\n",
      "INFO:tensorflow:Restoring parameters from cartpole/trained_agent\n",
      "Success to load checkpoint\n",
      "** Reward: 27\n",
      "\n",
      "Loading checkpoint...!\n",
      "INFO:tensorflow:Restoring parameters from cartpole/trained_agent\n",
      "Success to load checkpoint\n",
      "** Reward: 22\n",
      "\n",
      "Loading checkpoint...!\n",
      "INFO:tensorflow:Restoring parameters from cartpole/trained_agent\n",
      "Success to load checkpoint\n",
      "** Reward: 28\n",
      "\n",
      "Loading checkpoint...!\n",
      "INFO:tensorflow:Restoring parameters from cartpole/trained_agent\n",
      "Success to load checkpoint\n",
      "** Reward: 37\n",
      "\n",
      "Loading checkpoint...!\n",
      "INFO:tensorflow:Restoring parameters from cartpole/trained_agent\n",
      "Success to load checkpoint\n",
      "** Reward: 25\n",
      "\n",
      "[10.0, 25.0, 51.0, 38.0, 22.0, 42.0, 35.0, 29.0, 43.0, 46.0, 35.0, 42.0, 31.0, 52.0, 26.0, 27.0, 22.0, 28.0, 37.0, 25.0]\n",
      "33.3\n"
     ]
    }
   ],
   "source": [
    "import easydict\n",
    "\n",
    "\"\"\"\n",
    "You can add more arguments.\n",
    "for example, visualize, memory_size, batch_size, discount_factor, eps_max, eps_min, learning_rate, train_interval, copy_interval and so on\n",
    "\"\"\"\n",
    "\n",
    "args = easydict.EasyDict({\n",
    "    \"env-name\" : \"CartPole-v0\",\n",
    "    \"laod_env_name\" : \"CartPole-v0\",\n",
    "    \"train\" : False,\n",
    "    \"display\" : False,\n",
    "    \n",
    "    \"max_step\" : 100000,\n",
    "    \"max_exploration_step\" : 10000,\n",
    "    \"memory_size\" : 10000,\n",
    "    \"batch_size\" : 32,\n",
    "    \"num_skipping_states\" : 4,\n",
    "    \"state_length\" : 4,\n",
    "    \n",
    "    \"discount_factor\" : 0.99,\n",
    "    \"eps_init\" : 1.0,\n",
    "    \"eps_min\" : 0.1,\n",
    "    \"eps_test\" : 0.05,\n",
    "    \"learning_rate\" : 0.00025,\n",
    "    \"random_start\" : 30,\n",
    "    \n",
    "    \"training_start_step\" : 100,\n",
    "    \"train_interval\" : 1,\n",
    "    \"copy_interval\" : 1000,\n",
    "    \"show_interval\" : 2000,\n",
    "    \"display_interval\" : 0.05,\n",
    "    \n",
    "    \"gpu_num\" : 0\n",
    "})\n",
    "\n",
    "# Basic DQN uses just one GPU.\n",
    "os.environ[\"CUDA_VISIBLE_DEVICES\"] = str(args.gpu_num)\n",
    "config = tf.ConfigProto()\n",
    "config.log_device_placement = False\n",
    "config.gpu_options.allow_growth = True\n",
    "\n",
    "with tf.Session(config=config) as sess:\n",
    "    #args = parser.parse_args() # You set the option of test phase\n",
    "    myAgent = Agent(args, sess) # It depends on your class implementation\n",
    "    myAgent.load()\n",
    "    rewards = []\n",
    "    for i in range(20):\n",
    "        r = myAgent.play() # play() returns the reward cumulated in one episode\n",
    "        rewards.append(r)\n",
    "    mean = np.mean(rewards)\n",
    "    print(rewards)\n",
    "    print(mean)"
   ]
  },
  {
   "cell_type": "code",
   "execution_count": null,
   "metadata": {},
   "outputs": [],
   "source": []
  }
 ],
 "metadata": {
  "kernelspec": {
   "display_name": "Python 3",
   "language": "python",
   "name": "python3"
  },
  "language_info": {
   "codemirror_mode": {
    "name": "ipython",
    "version": 3
   },
   "file_extension": ".py",
   "mimetype": "text/x-python",
   "name": "python",
   "nbconvert_exporter": "python",
   "pygments_lexer": "ipython3",
   "version": "3.6.6"
  }
 },
 "nbformat": 4,
 "nbformat_minor": 2
}
